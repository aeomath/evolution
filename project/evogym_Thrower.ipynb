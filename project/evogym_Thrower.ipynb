{
  "cells": [
    {
      "cell_type": "markdown",
      "metadata": {
        "id": "view-in-github",
        "colab_type": "text"
      },
      "source": [
        "<a href=\"https://colab.research.google.com/github/aeomath/evolution/blob/master/evogym_Thrower.ipynb\" target=\"_parent\"><img src=\"https://colab.research.google.com/assets/colab-badge.svg\" alt=\"Open In Colab\"/></a>"
      ]
    },
    {
      "cell_type": "markdown",
      "id": "D3HYYIkHzzun",
      "metadata": {
        "id": "D3HYYIkHzzun"
      },
      "source": [
        "# Neuroevolution on EvoGym"
      ]
    },
    {
      "cell_type": "markdown",
      "metadata": {
        "id": "erIsxOfd_dsR"
      },
      "source": [
        "## Installs"
      ],
      "id": "erIsxOfd_dsR"
    },
    {
      "cell_type": "code",
      "execution_count": null,
      "id": "4aqig6T9yyYY",
      "metadata": {
        "id": "4aqig6T9yyYY"
      },
      "outputs": [],
      "source": [
        "!git clone --recurse-submodules https://github.com/d9w/evogym.git\n",
        "!git clone https://github.com/d9w/evolution.git\n",
        "!sudo apt-get install xorg-dev libglu1-mesa-dev libglew-dev\n",
        "!git clone --recurse-submodules https://github.com/EvolutionGym/evogym.git\n",
        "!sudo apt-get install xorg-dev libglu1-mesa-dev\n",
        "\n",
        "!pip install ./evogym/\n",
        "\n",
        "!pip install cma swig pyvirtualdisplay pygame\n",
        "!pip install box2d-py==2.3.8\n"
      ]
    },
    {
      "cell_type": "markdown",
      "metadata": {
        "id": "XUS8jik5_i2l"
      },
      "source": [
        "## Imports"
      ],
      "id": "XUS8jik5_i2l"
    },
    {
      "cell_type": "code",
      "execution_count": null,
      "id": "e28ee6b7",
      "metadata": {
        "id": "e28ee6b7"
      },
      "outputs": [],
      "source": [
        "import json\n",
        "import torch\n",
        "import torch.nn as nn\n",
        "import torch.nn.functional as F\n",
        "import numpy as np\n",
        "import copy\n",
        "import matplotlib.pyplot as plt\n",
        "from matplotlib import animation\n",
        "import gym\n",
        "import evogym.envs\n",
        "from evogym import sample_robot\n",
        "from evogym.utils import get_full_connectivity\n",
        "from tqdm import tqdm\n",
        "from multiprocessing import Pool\n",
        "\n",
        "np.float = float"
      ]
    },
    {
      "cell_type": "markdown",
      "id": "94b39cfe",
      "metadata": {
        "id": "94b39cfe"
      },
      "source": [
        "## Fonctions"
      ]
    },
    {
      "cell_type": "code",
      "execution_count": null,
      "metadata": {
        "id": "00815249",
        "colab": {
          "base_uri": "https://localhost:8080/"
        },
        "outputId": "bff9b2f5-d06a-4767-cefb-cee28cc47aca"
      },
      "outputs": [
        {
          "output_type": "stream",
          "name": "stderr",
          "text": [
            "/usr/local/lib/python3.10/dist-packages/ipykernel/ipkernel.py:283: DeprecationWarning: `should_run_async` will not call `transform_cell` automatically in the future. Please pass the result to `transformed_cell` argument and any exception that happen during thetransform in `preprocessing_exc_tuple` in IPython 7.17 and above.\n",
            "  and should_run_async(code)\n"
          ]
        }
      ],
      "source": [
        "class Agent:\n",
        "    def __init__(self, Net, config, genes = None):\n",
        "        self.config = config\n",
        "        self.Net = Net\n",
        "        self.model = None\n",
        "        self.fitness = None\n",
        "\n",
        "        self.device = torch.device(\n",
        "            \"cuda\" if torch.cuda.is_available() else \"cpu\")\n",
        "\n",
        "        self.make_network()\n",
        "        if genes is not None:\n",
        "            self.genes = genes\n",
        "\n",
        "    def __repr__(self):  # pragma: no cover\n",
        "        return f\"Agent {self.model} > fitness={self.fitness}\"\n",
        "\n",
        "    def __str__(self):  # pragma: no cover\n",
        "        return self.__repr__()\n",
        "\n",
        "    def make_network(self):\n",
        "        n_in = self.config[\"n_in\"]\n",
        "        h_size = self.config[\"h_size\"]\n",
        "        n_out = self.config[\"n_out\"]\n",
        "        self.model = self.Net(n_in, h_size, n_out).to(self.device).double()\n",
        "        return self\n",
        "\n",
        "    @property\n",
        "    def genes(self):\n",
        "        if self.model is None:\n",
        "            return None\n",
        "        with torch.no_grad():\n",
        "            params = self.model.parameters()\n",
        "            vec = torch.nn.utils.parameters_to_vector(params)\n",
        "        return vec.cpu().double().numpy()\n",
        "\n",
        "    @genes.setter\n",
        "    def genes(self, params):\n",
        "        if self.model is None:\n",
        "            self.make_network()\n",
        "        assert len(params) == len(\n",
        "            self.genes), \"Genome size does not fit the network size\"\n",
        "        if np.isnan(params).any():\n",
        "            raise\n",
        "        a = torch.tensor(params, device=self.device)\n",
        "        torch.nn.utils.vector_to_parameters(a, self.model.parameters())\n",
        "        self.model = self.model.to(self.device).double()\n",
        "        self.fitness = None\n",
        "        return self\n",
        "\n",
        "    def mutate_ga(self):\n",
        "        genes = self.genes\n",
        "        n = len(genes)\n",
        "        f = np.random.choice([False, True], size=n, p=[1/n, 1-1/n])\n",
        "\n",
        "        new_genes = np.empty(n)\n",
        "        new_genes[f] = genes[f]\n",
        "        noise = np.random.randn(n-sum(f))\n",
        "        new_genes[~f] = noise\n",
        "        return new_genes\n",
        "\n",
        "    def act(self, obs):\n",
        "        # continuous actions\n",
        "        with torch.no_grad():\n",
        "            x = torch.tensor(obs).double().unsqueeze(0).to(self.device)\n",
        "            actions = self.model(x).cpu().detach().numpy()\n",
        "        return actions\n"
      ],
      "id": "00815249"
    },
    {
      "cell_type": "code",
      "execution_count": null,
      "metadata": {
        "id": "4d66464c"
      },
      "outputs": [],
      "source": [
        "def make_env(env_name, seed=None, robot=None, **kwargs):\n",
        "    if robot is None:\n",
        "        env = gym.make(env_name)\n",
        "    else:\n",
        "        connections = get_full_connectivity(robot)\n",
        "        env = gym.make(env_name, body=robot)\n",
        "    env.robot = robot\n",
        "    if seed is not None:\n",
        "        env.seed(seed)\n",
        "\n",
        "    return env"
      ],
      "id": "4d66464c"
    },
    {
      "cell_type": "code",
      "execution_count": null,
      "metadata": {
        "id": "e5a27e73"
      },
      "outputs": [],
      "source": [
        "def evaluate(agent, env, max_steps=500, render=False):\n",
        "    obs = env.reset()\n",
        "    agent.model.reset()\n",
        "    reward = 0\n",
        "    steps = 0\n",
        "    done = False\n",
        "    while not done and steps < max_steps:\n",
        "        action = agent.act(obs)\n",
        "        obs, r, done, _ = env.step(action)\n",
        "        if render:\n",
        "            env.render()\n",
        "        reward += r\n",
        "        steps += 1\n",
        "    return reward"
      ],
      "id": "e5a27e73"
    },
    {
      "cell_type": "code",
      "execution_count": null,
      "metadata": {
        "id": "8ac629a1"
      },
      "outputs": [],
      "source": [
        "def mp_eval(a, cfg):\n",
        "    env = make_env(cfg[\"env_name\"], robot=cfg[\"robot\"])\n",
        "    fit = evaluate(a, env, max_steps=cfg[\"max_steps\"])\n",
        "    env.close()\n",
        "    return fit"
      ],
      "id": "8ac629a1"
    },
    {
      "cell_type": "code",
      "execution_count": null,
      "metadata": {
        "id": "vvKtdgvM9Zw4"
      },
      "outputs": [],
      "source": [
        "def get_cfg(env_name, robot=None):\n",
        "    env = make_env(env_name, robot=walker)\n",
        "    cfg = {\n",
        "        \"n_in\": env.observation_space.shape[0],\n",
        "        \"h_size\": 32,\n",
        "        \"n_out\": env.action_space.shape[0],\n",
        "    }\n",
        "    env.close()\n",
        "    return cfg"
      ],
      "id": "vvKtdgvM9Zw4"
    },
    {
      "cell_type": "code",
      "execution_count": null,
      "metadata": {
        "id": "8fe60f53"
      },
      "outputs": [],
      "source": [
        "def save_solution(a, cfg, name=\"solution.json\"):\n",
        "    save_cfg = {}\n",
        "    for i in [\"env_name\", \"robot\", \"n_in\", \"h_size\", \"n_out\"]:\n",
        "        assert i in cfg, f\"{i} not in config\"\n",
        "        save_cfg[i] = cfg[i]\n",
        "    save_cfg[\"robot\"] = cfg[\"robot\"].tolist()\n",
        "    save_cfg[\"genes\"] = a.genes.tolist()\n",
        "    save_cfg[\"fitness\"] = float(a.fitness)\n",
        "    # save\n",
        "    with open(name, \"w\") as f:\n",
        "        json.dump(save_cfg, f)\n",
        "    return save_cfg"
      ],
      "id": "8fe60f53"
    },
    {
      "cell_type": "code",
      "execution_count": null,
      "metadata": {
        "id": "7e86ef75"
      },
      "outputs": [],
      "source": [
        "def load_solution(name=\"solution.json\"):\n",
        "    with open(name, \"r\") as f:\n",
        "        cfg = json.load(f)\n",
        "    cfg[\"robot\"] = np.array(cfg[\"robot\"])\n",
        "    cfg[\"genes\"] = np.array(cfg[\"genes\"])\n",
        "    a = Agent(Network, cfg, genes=cfg[\"genes\"])\n",
        "    a.fitness = cfg[\"fitness\"]\n",
        "    return a"
      ],
      "id": "7e86ef75"
    },
    {
      "cell_type": "markdown",
      "metadata": {
        "id": "KyvLHKeB9eJQ"
      },
      "source": [
        "## Algos/Strat\n"
      ],
      "id": "KyvLHKeB9eJQ"
    },
    {
      "cell_type": "code",
      "execution_count": null,
      "metadata": {
        "id": "f92988b5"
      },
      "outputs": [],
      "source": [
        "def one_plus_lambda(config):\n",
        "    cfg = get_cfg(config[\"env_name\"], robot=config[\"robot\"]) # Get network dims\n",
        "    cfg = {**config, **cfg} # Merge configs\n",
        "\n",
        "    env = make_env(cfg[\"env_name\"], robot=cfg[\"robot\"])\n",
        "\n",
        "    # Elite\n",
        "    elite = Agent(Network, cfg)\n",
        "\n",
        "    elite.fitness = evaluate(elite, env, max_steps=cfg[\"max_steps\"])\n",
        "\n",
        "    fits = []\n",
        "    total_evals = []\n",
        "\n",
        "    bar = tqdm(range(cfg[\"generations\"]))\n",
        "    for gen in bar:\n",
        "        population = [Agent(Network, cfg, genes=elite.mutate_ga())\n",
        "            for _ in range(cfg[\"lambda\"])]\n",
        "\n",
        "        with Pool(processes=len(population)) as pool:\n",
        "            pop_fitness = pool.starmap(mp_eval, [(a, cfg) for a in population])\n",
        "\n",
        "        # pop_fitness = [evaluate(a, env, max_steps=cfg[\"max_steps\"]) for a in population]\n",
        "\n",
        "        best = np.argmax(pop_fitness)\n",
        "        best_fit = pop_fitness[best]\n",
        "        if best_fit > elite.fitness:\n",
        "            elite.genes = population[best].genes\n",
        "            elite.fitness = best_fit\n",
        "        fits.append(elite.fitness)\n",
        "        total_evals.append(len(population) * (gen+1))\n",
        "        bar.set_description(f\"Best: {elite.fitness}\")\n",
        "\n",
        "    env.close()\n",
        "    plt.plot(total_evals, fits)\n",
        "    plt.xlabel(\"Evaluations\")\n",
        "    plt.ylabel(\"Fitness\")\n",
        "    plt.show()\n",
        "    return elite"
      ],
      "id": "f92988b5"
    },
    {
      "cell_type": "code",
      "execution_count": null,
      "metadata": {
        "id": "1a660752"
      },
      "outputs": [],
      "source": [
        "def ES(config, genes=None):\n",
        "    cfg = get_cfg(config[\"env_name\"], robot=config[\"robot\"]) # Get network dims\n",
        "    cfg = {**config, **cfg} # Merge configs\n",
        "\n",
        "    # Update weights\n",
        "    mu = cfg[\"mu\"]\n",
        "    w = np.array([np.log(mu + 0.5) - np.log(i)\n",
        "                          for i in range(1, mu + 1)])\n",
        "    w /= np.sum(w)\n",
        "\n",
        "    env = make_env(cfg[\"env_name\"], robot=cfg[\"robot\"])\n",
        "\n",
        "    # Center of the distribution\n",
        "    elite = Agent(Network, cfg, genes=genes)\n",
        "    elite.fitness = -np.inf\n",
        "    theta = elite.genes\n",
        "    d = len(theta)\n",
        "\n",
        "    fits = []\n",
        "    total_evals = []\n",
        "\n",
        "    bar = tqdm(range(cfg[\"generations\"]))\n",
        "    for gen in bar:\n",
        "        population = []\n",
        "        for i in range(cfg[\"lambda\"]):\n",
        "            genes = theta + np.random.randn(len(theta)) * cfg[\"sigma\"]\n",
        "            ind = Agent(Network, cfg, genes=genes)\n",
        "            # ind.fitness = evaluate(ind, env, max_steps=cfg[\"max_steps\"])\n",
        "            population.append(ind)\n",
        "\n",
        "        with Pool(processes=len(population)) as pool:\n",
        "            pop_fitness = pool.starmap(mp_eval, [(a, cfg) for a in population])\n",
        "\n",
        "        for i in range(len(population)):\n",
        "            population[i].fitness = pop_fitness[i]\n",
        "\n",
        "        # sort by fitness\n",
        "        inv_fitnesses = [- f for f in pop_fitness]\n",
        "        # indices from highest fitness to lowest\n",
        "        idx = np.argsort(inv_fitnesses)\n",
        "\n",
        "        step = np.zeros(d)\n",
        "        for i in range(mu):\n",
        "            # update step\n",
        "            step = step + w[i] * (population[idx[i]].genes - theta)\n",
        "        # update theta\n",
        "        theta = theta + step * cfg[\"lr\"]\n",
        "\n",
        "        if pop_fitness[idx[0]] > elite.fitness:\n",
        "            elite.genes = population[idx[0]].genes\n",
        "            elite.fitness = pop_fitness[idx[0]]\n",
        "\n",
        "        fits.append(elite.fitness)\n",
        "        total_evals.append(len(population) * (gen+1))\n",
        "\n",
        "        bar.set_description(f\"Best: {elite.fitness}\")\n",
        "\n",
        "    env.close()\n",
        "    plt.plot(total_evals, fits)\n",
        "    plt.xlabel(\"Evaluations\")\n",
        "    plt.ylabel(\"Fitness\")\n",
        "    plt.show()\n",
        "    return elite"
      ],
      "id": "1a660752"
    },
    {
      "cell_type": "markdown",
      "metadata": {
        "id": "8K-lXTua869W"
      },
      "source": [
        "## Network"
      ],
      "id": "8K-lXTua869W"
    },
    {
      "cell_type": "code",
      "execution_count": null,
      "id": "07787020",
      "metadata": {
        "id": "07787020"
      },
      "outputs": [],
      "source": [
        "class Network(nn.Module):\n",
        "    def __init__(self, n_in, h_size, n_out):\n",
        "        super().__init__()\n",
        "        self.fc1 = nn.Linear(n_in, h_size)\n",
        "        self.fc2 = nn.Linear(h_size, h_size)\n",
        "        self.fcf = nn.Linear(h_size, n_out)\n",
        "\n",
        "        self.n_out = n_out\n",
        "\n",
        "    def reset(self):\n",
        "        pass\n",
        "\n",
        "    def forward(self, x):\n",
        "        x = self.fc1(x)\n",
        "        x = F.relu(x)\n",
        "\n",
        "        x = self.fc2(x)\n",
        "        x = F.relu(x)\n",
        "\n",
        "        x = self.fcf(x)\n",
        "        return x"
      ]
    },
    {
      "cell_type": "code",
      "execution_count": null,
      "metadata": {
        "id": "1881c388"
      },
      "outputs": [],
      "source": [
        "def get_cfg(env_name, robot=None):\n",
        "    env = make_env(env_name, robot=walker)\n",
        "    cfg = {\n",
        "        \"n_in\": env.observation_space.shape[0],\n",
        "        \"h_size\": 32,\n",
        "        \"n_out\": env.action_space.shape[0],\n",
        "    }\n",
        "    env.close()\n",
        "    return cfg"
      ],
      "id": "1881c388"
    },
    {
      "cell_type": "markdown",
      "id": "f12a7f25",
      "metadata": {
        "id": "f12a7f25"
      },
      "source": [
        "## Environment"
      ]
    },
    {
      "cell_type": "code",
      "execution_count": null,
      "id": "d19259d6",
      "metadata": {
        "id": "d19259d6"
      },
      "outputs": [],
      "source": [
        "thrower = np.array([\n",
        "    [3, 3, 0, 0, 0],\n",
        "    [4, 4, 3, 0, 0],\n",
        "    [4, 4, 3, 0, 0],\n",
        "    [4, 4, 3, 3, 3],\n",
        "    [4, 4, 3, 3, 3]\n",
        "    ])"
      ]
    },
    {
      "cell_type": "code",
      "execution_count": null,
      "id": "b72fffc4",
      "metadata": {
        "colab": {
          "base_uri": "https://localhost:8080/"
        },
        "id": "b72fffc4",
        "outputId": "b5a4044a-c6ab-4eda-bf38-50f94ce8d773"
      },
      "outputs": [
        {
          "output_type": "stream",
          "name": "stderr",
          "text": [
            "/usr/local/lib/python3.10/dist-packages/gym/core.py:317: DeprecationWarning: \u001b[33mWARN: Initializing wrapper in old step API which returns one bool instead of two. It is recommended to set `new_step_api=True` to use new step API. This will be the default behaviour in future.\u001b[0m\n",
            "  deprecation(\n",
            "/usr/local/lib/python3.10/dist-packages/gym/wrappers/step_api_compatibility.py:39: DeprecationWarning: \u001b[33mWARN: Initializing environment in old step API which returns one bool instead of two. It is recommended to set `new_step_api=True` to use new step API. This will be the default behaviour in future.\u001b[0m\n",
            "  deprecation(\n"
          ]
        }
      ],
      "source": [
        "env_name = 'Thrower-v0'\n",
        "robot = thrower\n",
        "\n",
        "config = get_cfg(env_name, robot)\n",
        "a = Agent(Network, config)"
      ]
    },
    {
      "cell_type": "markdown",
      "id": "34f46b8a",
      "metadata": {
        "id": "34f46b8a"
      },
      "source": [
        "## Load"
      ]
    },
    {
      "cell_type": "code",
      "source": [
        "a = Agent(Network, config)\n",
        "a.genes = np.load(\"genes.npy\")\n",
        "walker = np.load(\"walker.npy\")\n",
        "a = load_solution(name=\"solution.json\")"
      ],
      "metadata": {
        "id": "0zLrMA97_C-l"
      },
      "id": "0zLrMA97_C-l",
      "execution_count": null,
      "outputs": []
    },
    {
      "cell_type": "markdown",
      "metadata": {
        "id": "e9DxmC7T--vb"
      },
      "source": [
        "## Evaluation"
      ],
      "id": "e9DxmC7T--vb"
    },
    {
      "cell_type": "code",
      "source": [
        "config = {\n",
        "    \"env_name\": \"Thrower-v0\",\n",
        "    \"robot\": thrower,\n",
        "    \"generations\": 10, # to change: increase!\n",
        "    \"lambda\": 5, # Population size\n",
        "    \"mu\": 5, # Parents pop size\n",
        "    \"sigma\": 0.5, # mutation std\n",
        "    \"lr\": 5, # Learning rate\n",
        "    \"max_steps\": 500, # to change to 500\n",
        "}"
      ],
      "metadata": {
        "id": "tAlJTLX8-XdT"
      },
      "id": "tAlJTLX8-XdT",
      "execution_count": null,
      "outputs": []
    },
    {
      "cell_type": "code",
      "execution_count": null,
      "metadata": {
        "colab": {
          "base_uri": "https://localhost:8080/",
          "height": 550
        },
        "id": "29d25dec",
        "outputId": "ed293a77-f618-4410-d9df-637aaf74eeeb"
      },
      "outputs": [
        {
          "output_type": "stream",
          "name": "stderr",
          "text": [
            "/usr/local/lib/python3.10/dist-packages/gym/core.py:317: DeprecationWarning: \u001b[33mWARN: Initializing wrapper in old step API which returns one bool instead of two. It is recommended to set `new_step_api=True` to use new step API. This will be the default behaviour in future.\u001b[0m\n",
            "  deprecation(\n",
            "/usr/local/lib/python3.10/dist-packages/gym/wrappers/step_api_compatibility.py:39: DeprecationWarning: \u001b[33mWARN: Initializing environment in old step API which returns one bool instead of two. It is recommended to set `new_step_api=True` to use new step API. This will be the default behaviour in future.\u001b[0m\n",
            "  deprecation(\n",
            "/usr/local/lib/python3.10/dist-packages/gym/utils/passive_env_checker.py:174: UserWarning: \u001b[33mWARN: Future gym versions will require that `Env.reset` can be passed a `seed` instead of using `Env.seed` for resetting the environment random number generator.\u001b[0m\n",
            "  logger.warn(\n",
            "/usr/local/lib/python3.10/dist-packages/gym/utils/passive_env_checker.py:190: UserWarning: \u001b[33mWARN: Future gym versions will require that `Env.reset` can be passed `return_info` to return information from the environment resetting.\u001b[0m\n",
            "  logger.warn(\n",
            "/usr/local/lib/python3.10/dist-packages/gym/utils/passive_env_checker.py:195: UserWarning: \u001b[33mWARN: Future gym versions will require that `Env.reset` can be passed `options` to allow the environment initialisation to be passed additional information.\u001b[0m\n",
            "  logger.warn(\n"
          ]
        },
        {
          "output_type": "error",
          "ename": "RuntimeError",
          "evalue": "mat1 and mat2 shapes cannot be multiplied (1x64 and 78x32)",
          "traceback": [
            "\u001b[0;31m---------------------------------------------------------------------------\u001b[0m",
            "\u001b[0;31mRuntimeError\u001b[0m                              Traceback (most recent call last)",
            "\u001b[0;32m<ipython-input-23-ba99dfdcf251>\u001b[0m in \u001b[0;36m<cell line: 3>\u001b[0;34m()\u001b[0m\n\u001b[1;32m      1\u001b[0m \u001b[0;31m# Evaluation\u001b[0m\u001b[0;34m\u001b[0m\u001b[0;34m\u001b[0m\u001b[0m\n\u001b[1;32m      2\u001b[0m \u001b[0menv\u001b[0m \u001b[0;34m=\u001b[0m \u001b[0mmake_env\u001b[0m\u001b[0;34m(\u001b[0m\u001b[0mconfig\u001b[0m\u001b[0;34m[\u001b[0m\u001b[0;34m\"env_name\"\u001b[0m\u001b[0;34m]\u001b[0m\u001b[0;34m,\u001b[0m \u001b[0mrobot\u001b[0m\u001b[0;34m=\u001b[0m\u001b[0mconfig\u001b[0m\u001b[0;34m[\u001b[0m\u001b[0;34m\"robot\"\u001b[0m\u001b[0;34m]\u001b[0m\u001b[0;34m)\u001b[0m\u001b[0;34m\u001b[0m\u001b[0;34m\u001b[0m\u001b[0m\n\u001b[0;32m----> 3\u001b[0;31m \u001b[0mreward\u001b[0m \u001b[0;34m=\u001b[0m \u001b[0mevaluate\u001b[0m\u001b[0;34m(\u001b[0m\u001b[0ma\u001b[0m\u001b[0;34m,\u001b[0m \u001b[0menv\u001b[0m\u001b[0;34m,\u001b[0m \u001b[0mrender\u001b[0m\u001b[0;34m=\u001b[0m\u001b[0;32mFalse\u001b[0m\u001b[0;34m)\u001b[0m\u001b[0;34m\u001b[0m\u001b[0;34m\u001b[0m\u001b[0m\n\u001b[0m\u001b[1;32m      4\u001b[0m \u001b[0mprint\u001b[0m\u001b[0;34m(\u001b[0m\u001b[0;34mf\"Reward: {reward}\"\u001b[0m\u001b[0;34m)\u001b[0m\u001b[0;34m\u001b[0m\u001b[0;34m\u001b[0m\u001b[0m\n\u001b[1;32m      5\u001b[0m \u001b[0menv\u001b[0m\u001b[0;34m.\u001b[0m\u001b[0mclose\u001b[0m\u001b[0;34m(\u001b[0m\u001b[0;34m)\u001b[0m\u001b[0;34m\u001b[0m\u001b[0;34m\u001b[0m\u001b[0m\n",
            "\u001b[0;32m<ipython-input-10-2d68929e3848>\u001b[0m in \u001b[0;36mevaluate\u001b[0;34m(agent, env, max_steps, render)\u001b[0m\n\u001b[1;32m      6\u001b[0m     \u001b[0mdone\u001b[0m \u001b[0;34m=\u001b[0m \u001b[0;32mFalse\u001b[0m\u001b[0;34m\u001b[0m\u001b[0;34m\u001b[0m\u001b[0m\n\u001b[1;32m      7\u001b[0m     \u001b[0;32mwhile\u001b[0m \u001b[0;32mnot\u001b[0m \u001b[0mdone\u001b[0m \u001b[0;32mand\u001b[0m \u001b[0msteps\u001b[0m \u001b[0;34m<\u001b[0m \u001b[0mmax_steps\u001b[0m\u001b[0;34m:\u001b[0m\u001b[0;34m\u001b[0m\u001b[0;34m\u001b[0m\u001b[0m\n\u001b[0;32m----> 8\u001b[0;31m         \u001b[0maction\u001b[0m \u001b[0;34m=\u001b[0m \u001b[0magent\u001b[0m\u001b[0;34m.\u001b[0m\u001b[0mact\u001b[0m\u001b[0;34m(\u001b[0m\u001b[0mobs\u001b[0m\u001b[0;34m)\u001b[0m\u001b[0;34m\u001b[0m\u001b[0;34m\u001b[0m\u001b[0m\n\u001b[0m\u001b[1;32m      9\u001b[0m         \u001b[0mobs\u001b[0m\u001b[0;34m,\u001b[0m \u001b[0mr\u001b[0m\u001b[0;34m,\u001b[0m \u001b[0mdone\u001b[0m\u001b[0;34m,\u001b[0m \u001b[0m_\u001b[0m \u001b[0;34m=\u001b[0m \u001b[0menv\u001b[0m\u001b[0;34m.\u001b[0m\u001b[0mstep\u001b[0m\u001b[0;34m(\u001b[0m\u001b[0maction\u001b[0m\u001b[0;34m)\u001b[0m\u001b[0;34m\u001b[0m\u001b[0;34m\u001b[0m\u001b[0m\n\u001b[1;32m     10\u001b[0m         \u001b[0;32mif\u001b[0m \u001b[0mrender\u001b[0m\u001b[0;34m:\u001b[0m\u001b[0;34m\u001b[0m\u001b[0;34m\u001b[0m\u001b[0m\n",
            "\u001b[0;32m<ipython-input-8-d437459ad2c6>\u001b[0m in \u001b[0;36mact\u001b[0;34m(self, obs)\u001b[0m\n\u001b[1;32m     64\u001b[0m         \u001b[0;32mwith\u001b[0m \u001b[0mtorch\u001b[0m\u001b[0;34m.\u001b[0m\u001b[0mno_grad\u001b[0m\u001b[0;34m(\u001b[0m\u001b[0;34m)\u001b[0m\u001b[0;34m:\u001b[0m\u001b[0;34m\u001b[0m\u001b[0;34m\u001b[0m\u001b[0m\n\u001b[1;32m     65\u001b[0m             \u001b[0mx\u001b[0m \u001b[0;34m=\u001b[0m \u001b[0mtorch\u001b[0m\u001b[0;34m.\u001b[0m\u001b[0mtensor\u001b[0m\u001b[0;34m(\u001b[0m\u001b[0mobs\u001b[0m\u001b[0;34m)\u001b[0m\u001b[0;34m.\u001b[0m\u001b[0mdouble\u001b[0m\u001b[0;34m(\u001b[0m\u001b[0;34m)\u001b[0m\u001b[0;34m.\u001b[0m\u001b[0munsqueeze\u001b[0m\u001b[0;34m(\u001b[0m\u001b[0;36m0\u001b[0m\u001b[0;34m)\u001b[0m\u001b[0;34m.\u001b[0m\u001b[0mto\u001b[0m\u001b[0;34m(\u001b[0m\u001b[0mself\u001b[0m\u001b[0;34m.\u001b[0m\u001b[0mdevice\u001b[0m\u001b[0;34m)\u001b[0m\u001b[0;34m\u001b[0m\u001b[0;34m\u001b[0m\u001b[0m\n\u001b[0;32m---> 66\u001b[0;31m             \u001b[0mactions\u001b[0m \u001b[0;34m=\u001b[0m \u001b[0mself\u001b[0m\u001b[0;34m.\u001b[0m\u001b[0mmodel\u001b[0m\u001b[0;34m(\u001b[0m\u001b[0mx\u001b[0m\u001b[0;34m)\u001b[0m\u001b[0;34m.\u001b[0m\u001b[0mcpu\u001b[0m\u001b[0;34m(\u001b[0m\u001b[0;34m)\u001b[0m\u001b[0;34m.\u001b[0m\u001b[0mdetach\u001b[0m\u001b[0;34m(\u001b[0m\u001b[0;34m)\u001b[0m\u001b[0;34m.\u001b[0m\u001b[0mnumpy\u001b[0m\u001b[0;34m(\u001b[0m\u001b[0;34m)\u001b[0m\u001b[0;34m\u001b[0m\u001b[0;34m\u001b[0m\u001b[0m\n\u001b[0m\u001b[1;32m     67\u001b[0m         \u001b[0;32mreturn\u001b[0m \u001b[0mactions\u001b[0m\u001b[0;34m\u001b[0m\u001b[0;34m\u001b[0m\u001b[0m\n",
            "\u001b[0;32m/usr/local/lib/python3.10/dist-packages/torch/nn/modules/module.py\u001b[0m in \u001b[0;36m_wrapped_call_impl\u001b[0;34m(self, *args, **kwargs)\u001b[0m\n\u001b[1;32m   1509\u001b[0m             \u001b[0;32mreturn\u001b[0m \u001b[0mself\u001b[0m\u001b[0;34m.\u001b[0m\u001b[0m_compiled_call_impl\u001b[0m\u001b[0;34m(\u001b[0m\u001b[0;34m*\u001b[0m\u001b[0margs\u001b[0m\u001b[0;34m,\u001b[0m \u001b[0;34m**\u001b[0m\u001b[0mkwargs\u001b[0m\u001b[0;34m)\u001b[0m  \u001b[0;31m# type: ignore[misc]\u001b[0m\u001b[0;34m\u001b[0m\u001b[0;34m\u001b[0m\u001b[0m\n\u001b[1;32m   1510\u001b[0m         \u001b[0;32melse\u001b[0m\u001b[0;34m:\u001b[0m\u001b[0;34m\u001b[0m\u001b[0;34m\u001b[0m\u001b[0m\n\u001b[0;32m-> 1511\u001b[0;31m             \u001b[0;32mreturn\u001b[0m \u001b[0mself\u001b[0m\u001b[0;34m.\u001b[0m\u001b[0m_call_impl\u001b[0m\u001b[0;34m(\u001b[0m\u001b[0;34m*\u001b[0m\u001b[0margs\u001b[0m\u001b[0;34m,\u001b[0m \u001b[0;34m**\u001b[0m\u001b[0mkwargs\u001b[0m\u001b[0;34m)\u001b[0m\u001b[0;34m\u001b[0m\u001b[0;34m\u001b[0m\u001b[0m\n\u001b[0m\u001b[1;32m   1512\u001b[0m \u001b[0;34m\u001b[0m\u001b[0m\n\u001b[1;32m   1513\u001b[0m     \u001b[0;32mdef\u001b[0m \u001b[0m_call_impl\u001b[0m\u001b[0;34m(\u001b[0m\u001b[0mself\u001b[0m\u001b[0;34m,\u001b[0m \u001b[0;34m*\u001b[0m\u001b[0margs\u001b[0m\u001b[0;34m,\u001b[0m \u001b[0;34m**\u001b[0m\u001b[0mkwargs\u001b[0m\u001b[0;34m)\u001b[0m\u001b[0;34m:\u001b[0m\u001b[0;34m\u001b[0m\u001b[0;34m\u001b[0m\u001b[0m\n",
            "\u001b[0;32m/usr/local/lib/python3.10/dist-packages/torch/nn/modules/module.py\u001b[0m in \u001b[0;36m_call_impl\u001b[0;34m(self, *args, **kwargs)\u001b[0m\n\u001b[1;32m   1518\u001b[0m                 \u001b[0;32mor\u001b[0m \u001b[0m_global_backward_pre_hooks\u001b[0m \u001b[0;32mor\u001b[0m \u001b[0m_global_backward_hooks\u001b[0m\u001b[0;34m\u001b[0m\u001b[0;34m\u001b[0m\u001b[0m\n\u001b[1;32m   1519\u001b[0m                 or _global_forward_hooks or _global_forward_pre_hooks):\n\u001b[0;32m-> 1520\u001b[0;31m             \u001b[0;32mreturn\u001b[0m \u001b[0mforward_call\u001b[0m\u001b[0;34m(\u001b[0m\u001b[0;34m*\u001b[0m\u001b[0margs\u001b[0m\u001b[0;34m,\u001b[0m \u001b[0;34m**\u001b[0m\u001b[0mkwargs\u001b[0m\u001b[0;34m)\u001b[0m\u001b[0;34m\u001b[0m\u001b[0;34m\u001b[0m\u001b[0m\n\u001b[0m\u001b[1;32m   1521\u001b[0m \u001b[0;34m\u001b[0m\u001b[0m\n\u001b[1;32m   1522\u001b[0m         \u001b[0;32mtry\u001b[0m\u001b[0;34m:\u001b[0m\u001b[0;34m\u001b[0m\u001b[0;34m\u001b[0m\u001b[0m\n",
            "\u001b[0;32m<ipython-input-17-5efcc07a9565>\u001b[0m in \u001b[0;36mforward\u001b[0;34m(self, x)\u001b[0m\n\u001b[1;32m     12\u001b[0m \u001b[0;34m\u001b[0m\u001b[0m\n\u001b[1;32m     13\u001b[0m     \u001b[0;32mdef\u001b[0m \u001b[0mforward\u001b[0m\u001b[0;34m(\u001b[0m\u001b[0mself\u001b[0m\u001b[0;34m,\u001b[0m \u001b[0mx\u001b[0m\u001b[0;34m)\u001b[0m\u001b[0;34m:\u001b[0m\u001b[0;34m\u001b[0m\u001b[0;34m\u001b[0m\u001b[0m\n\u001b[0;32m---> 14\u001b[0;31m         \u001b[0mx\u001b[0m \u001b[0;34m=\u001b[0m \u001b[0mself\u001b[0m\u001b[0;34m.\u001b[0m\u001b[0mfc1\u001b[0m\u001b[0;34m(\u001b[0m\u001b[0mx\u001b[0m\u001b[0;34m)\u001b[0m\u001b[0;34m\u001b[0m\u001b[0;34m\u001b[0m\u001b[0m\n\u001b[0m\u001b[1;32m     15\u001b[0m         \u001b[0mx\u001b[0m \u001b[0;34m=\u001b[0m \u001b[0mF\u001b[0m\u001b[0;34m.\u001b[0m\u001b[0mrelu\u001b[0m\u001b[0;34m(\u001b[0m\u001b[0mx\u001b[0m\u001b[0;34m)\u001b[0m\u001b[0;34m\u001b[0m\u001b[0;34m\u001b[0m\u001b[0m\n\u001b[1;32m     16\u001b[0m \u001b[0;34m\u001b[0m\u001b[0m\n",
            "\u001b[0;32m/usr/local/lib/python3.10/dist-packages/torch/nn/modules/module.py\u001b[0m in \u001b[0;36m_wrapped_call_impl\u001b[0;34m(self, *args, **kwargs)\u001b[0m\n\u001b[1;32m   1509\u001b[0m             \u001b[0;32mreturn\u001b[0m \u001b[0mself\u001b[0m\u001b[0;34m.\u001b[0m\u001b[0m_compiled_call_impl\u001b[0m\u001b[0;34m(\u001b[0m\u001b[0;34m*\u001b[0m\u001b[0margs\u001b[0m\u001b[0;34m,\u001b[0m \u001b[0;34m**\u001b[0m\u001b[0mkwargs\u001b[0m\u001b[0;34m)\u001b[0m  \u001b[0;31m# type: ignore[misc]\u001b[0m\u001b[0;34m\u001b[0m\u001b[0;34m\u001b[0m\u001b[0m\n\u001b[1;32m   1510\u001b[0m         \u001b[0;32melse\u001b[0m\u001b[0;34m:\u001b[0m\u001b[0;34m\u001b[0m\u001b[0;34m\u001b[0m\u001b[0m\n\u001b[0;32m-> 1511\u001b[0;31m             \u001b[0;32mreturn\u001b[0m \u001b[0mself\u001b[0m\u001b[0;34m.\u001b[0m\u001b[0m_call_impl\u001b[0m\u001b[0;34m(\u001b[0m\u001b[0;34m*\u001b[0m\u001b[0margs\u001b[0m\u001b[0;34m,\u001b[0m \u001b[0;34m**\u001b[0m\u001b[0mkwargs\u001b[0m\u001b[0;34m)\u001b[0m\u001b[0;34m\u001b[0m\u001b[0;34m\u001b[0m\u001b[0m\n\u001b[0m\u001b[1;32m   1512\u001b[0m \u001b[0;34m\u001b[0m\u001b[0m\n\u001b[1;32m   1513\u001b[0m     \u001b[0;32mdef\u001b[0m \u001b[0m_call_impl\u001b[0m\u001b[0;34m(\u001b[0m\u001b[0mself\u001b[0m\u001b[0;34m,\u001b[0m \u001b[0;34m*\u001b[0m\u001b[0margs\u001b[0m\u001b[0;34m,\u001b[0m \u001b[0;34m**\u001b[0m\u001b[0mkwargs\u001b[0m\u001b[0;34m)\u001b[0m\u001b[0;34m:\u001b[0m\u001b[0;34m\u001b[0m\u001b[0;34m\u001b[0m\u001b[0m\n",
            "\u001b[0;32m/usr/local/lib/python3.10/dist-packages/torch/nn/modules/module.py\u001b[0m in \u001b[0;36m_call_impl\u001b[0;34m(self, *args, **kwargs)\u001b[0m\n\u001b[1;32m   1518\u001b[0m                 \u001b[0;32mor\u001b[0m \u001b[0m_global_backward_pre_hooks\u001b[0m \u001b[0;32mor\u001b[0m \u001b[0m_global_backward_hooks\u001b[0m\u001b[0;34m\u001b[0m\u001b[0;34m\u001b[0m\u001b[0m\n\u001b[1;32m   1519\u001b[0m                 or _global_forward_hooks or _global_forward_pre_hooks):\n\u001b[0;32m-> 1520\u001b[0;31m             \u001b[0;32mreturn\u001b[0m \u001b[0mforward_call\u001b[0m\u001b[0;34m(\u001b[0m\u001b[0;34m*\u001b[0m\u001b[0margs\u001b[0m\u001b[0;34m,\u001b[0m \u001b[0;34m**\u001b[0m\u001b[0mkwargs\u001b[0m\u001b[0;34m)\u001b[0m\u001b[0;34m\u001b[0m\u001b[0;34m\u001b[0m\u001b[0m\n\u001b[0m\u001b[1;32m   1521\u001b[0m \u001b[0;34m\u001b[0m\u001b[0m\n\u001b[1;32m   1522\u001b[0m         \u001b[0;32mtry\u001b[0m\u001b[0;34m:\u001b[0m\u001b[0;34m\u001b[0m\u001b[0;34m\u001b[0m\u001b[0m\n",
            "\u001b[0;32m/usr/local/lib/python3.10/dist-packages/torch/nn/modules/linear.py\u001b[0m in \u001b[0;36mforward\u001b[0;34m(self, input)\u001b[0m\n\u001b[1;32m    114\u001b[0m \u001b[0;34m\u001b[0m\u001b[0m\n\u001b[1;32m    115\u001b[0m     \u001b[0;32mdef\u001b[0m \u001b[0mforward\u001b[0m\u001b[0;34m(\u001b[0m\u001b[0mself\u001b[0m\u001b[0;34m,\u001b[0m \u001b[0minput\u001b[0m\u001b[0;34m:\u001b[0m \u001b[0mTensor\u001b[0m\u001b[0;34m)\u001b[0m \u001b[0;34m->\u001b[0m \u001b[0mTensor\u001b[0m\u001b[0;34m:\u001b[0m\u001b[0;34m\u001b[0m\u001b[0;34m\u001b[0m\u001b[0m\n\u001b[0;32m--> 116\u001b[0;31m         \u001b[0;32mreturn\u001b[0m \u001b[0mF\u001b[0m\u001b[0;34m.\u001b[0m\u001b[0mlinear\u001b[0m\u001b[0;34m(\u001b[0m\u001b[0minput\u001b[0m\u001b[0;34m,\u001b[0m \u001b[0mself\u001b[0m\u001b[0;34m.\u001b[0m\u001b[0mweight\u001b[0m\u001b[0;34m,\u001b[0m \u001b[0mself\u001b[0m\u001b[0;34m.\u001b[0m\u001b[0mbias\u001b[0m\u001b[0;34m)\u001b[0m\u001b[0;34m\u001b[0m\u001b[0;34m\u001b[0m\u001b[0m\n\u001b[0m\u001b[1;32m    117\u001b[0m \u001b[0;34m\u001b[0m\u001b[0m\n\u001b[1;32m    118\u001b[0m     \u001b[0;32mdef\u001b[0m \u001b[0mextra_repr\u001b[0m\u001b[0;34m(\u001b[0m\u001b[0mself\u001b[0m\u001b[0;34m)\u001b[0m \u001b[0;34m->\u001b[0m \u001b[0mstr\u001b[0m\u001b[0;34m:\u001b[0m\u001b[0;34m\u001b[0m\u001b[0;34m\u001b[0m\u001b[0m\n",
            "\u001b[0;31mRuntimeError\u001b[0m: mat1 and mat2 shapes cannot be multiplied (1x64 and 78x32)"
          ]
        }
      ],
      "source": [
        "# Evaluation\n",
        "env = make_env(config[\"env_name\"], robot=config[\"robot\"])\n",
        "reward = evaluate(a, env, render=False)\n",
        "print(f\"Reward: {reward}\")\n",
        "env.close()"
      ],
      "id": "29d25dec"
    },
    {
      "cell_type": "code",
      "execution_count": null,
      "metadata": {
        "id": "063baf0f"
      },
      "outputs": [],
      "source": [
        "a = ES(config)\n",
        "a.fitness"
      ],
      "id": "063baf0f"
    },
    {
      "cell_type": "markdown",
      "id": "8ef8f67e",
      "metadata": {
        "id": "8ef8f67e"
      },
      "source": [
        "### Save sim"
      ]
    },
    {
      "cell_type": "code",
      "execution_count": null,
      "id": "59131bc4",
      "metadata": {
        "id": "59131bc4"
      },
      "outputs": [],
      "source": [
        "np.save(\"thrower.npy\", thrower)\n",
        "np.save(\"genes.npy\", a.genes)\n",
        "save_solution(a, config, \"solution.json\")"
      ]
    }
  ],
  "metadata": {
    "colab": {
      "provenance": [],
      "include_colab_link": true
    },
    "kernelspec": {
      "display_name": "Python 3 (ipykernel)",
      "language": "python",
      "name": "python3"
    },
    "language_info": {
      "codemirror_mode": {
        "name": "ipython",
        "version": 3
      },
      "file_extension": ".py",
      "mimetype": "text/x-python",
      "name": "python",
      "nbconvert_exporter": "python",
      "pygments_lexer": "ipython3",
      "version": "3.8.16"
    }
  },
  "nbformat": 4,
  "nbformat_minor": 5
}